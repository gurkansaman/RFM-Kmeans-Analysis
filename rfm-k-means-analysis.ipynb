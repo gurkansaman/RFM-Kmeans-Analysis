{
 "cells": [
  {
   "cell_type": "markdown",
   "id": "1611da8a",
   "metadata": {
    "papermill": {
     "duration": 0.02143,
     "end_time": "2021-07-24T09:18:06.217436",
     "exception": false,
     "start_time": "2021-07-24T09:18:06.196006",
     "status": "completed"
    },
    "tags": []
   },
   "source": [
    "**Dataset Story :**\n",
    "* The Online Retail II data set, which includes the sales data of the UK-based online sales store, was used.\n",
    "* Sales data between 01/12/2009 - 09/12/2011 are included in the data set.\n",
    "* The product catalog of this company includes souvenirs.\n",
    "* There is also information that most of its customers are wholesalers.\n",
    "\n",
    "**Variables:**\n",
    "* InvoiceNo: Invoice Number -> If this code starts with C, it means that the operation has been canceled.\n",
    "* StockCode: Product Code -> Unique number for each product\n",
    "* Description: Product name\n",
    "* Quantity: Number of products -> how many of the products on the invoices were sold.\n",
    "* InvoiceDate\n",
    "* UnitePrice\n",
    "* CustomerID: Unique customer number\n",
    "* Country"
   ]
  },
  {
   "cell_type": "code",
   "execution_count": 1,
   "id": "be5614ad",
   "metadata": {
    "execution": {
     "iopub.execute_input": "2021-07-24T09:18:06.258520Z",
     "iopub.status.busy": "2021-07-24T09:18:06.257389Z",
     "iopub.status.idle": "2021-07-24T09:18:17.370624Z",
     "shell.execute_reply": "2021-07-24T09:18:17.369749Z",
     "shell.execute_reply.started": "2021-07-21T15:38:49.858411Z"
    },
    "papermill": {
     "duration": 11.134907,
     "end_time": "2021-07-24T09:18:17.370799",
     "exception": false,
     "start_time": "2021-07-24T09:18:06.235892",
     "status": "completed"
    },
    "tags": []
   },
   "outputs": [
    {
     "name": "stdout",
     "output_type": "stream",
     "text": [
      "Collecting openpyxl\r\n",
      "  Downloading openpyxl-3.0.7-py2.py3-none-any.whl (243 kB)\r\n",
      "\u001b[K     |████████████████████████████████| 243 kB 827 kB/s \r\n",
      "\u001b[?25hCollecting et-xmlfile\r\n",
      "  Downloading et_xmlfile-1.1.0-py3-none-any.whl (4.7 kB)\r\n",
      "Installing collected packages: et-xmlfile, openpyxl\r\n",
      "Successfully installed et-xmlfile-1.1.0 openpyxl-3.0.7\r\n",
      "\u001b[33mWARNING: Running pip as root will break packages and permissions. You should install packages reliably by using venv: https://pip.pypa.io/warnings/venv\u001b[0m\r\n"
     ]
    }
   ],
   "source": [
    "! pip install openpyxl"
   ]
  },
  {
   "cell_type": "code",
   "execution_count": 2,
   "id": "ea23e954",
   "metadata": {
    "execution": {
     "iopub.execute_input": "2021-07-24T09:18:17.432712Z",
     "iopub.status.busy": "2021-07-24T09:18:17.432003Z",
     "iopub.status.idle": "2021-07-24T09:18:19.431448Z",
     "shell.execute_reply": "2021-07-24T09:18:19.430760Z",
     "shell.execute_reply.started": "2021-07-21T15:39:01.002345Z"
    },
    "papermill": {
     "duration": 2.032805,
     "end_time": "2021-07-24T09:18:19.431579",
     "exception": false,
     "start_time": "2021-07-24T09:18:17.398774",
     "status": "completed"
    },
    "tags": []
   },
   "outputs": [],
   "source": [
    "import pandas as pd\n",
    "import numpy as np\n",
    "import datetime as dt\n",
    "import openpyxl\n",
    "import seaborn as sns\n",
    "from sklearn.cluster import KMeans\n",
    "import matplotlib.pyplot as plt\n",
    "from sklearn.cluster import KMeans\n",
    "from sklearn.preprocessing import MinMaxScaler, StandardScaler\n",
    "pd.set_option('display.max_columns', None)\n",
    "pd.set_option('display.max_rows', None)\n",
    "pd.set_option('display.float_format', lambda x: '%.0f' % x)"
   ]
  },
  {
   "cell_type": "markdown",
   "id": "411677ce",
   "metadata": {
    "papermill": {
     "duration": 0.026983,
     "end_time": "2021-07-24T09:18:19.486151",
     "exception": false,
     "start_time": "2021-07-24T09:18:19.459168",
     "status": "completed"
    },
    "tags": []
   },
   "source": [
    "###############################################################\n",
    "#       Importing / Pre-Processing         #\n",
    "###############################################################"
   ]
  },
  {
   "cell_type": "code",
   "execution_count": 3,
   "id": "aa278095",
   "metadata": {
    "execution": {
     "iopub.execute_input": "2021-07-24T09:18:19.546285Z",
     "iopub.status.busy": "2021-07-24T09:18:19.545617Z",
     "iopub.status.idle": "2021-07-24T09:20:12.651207Z",
     "shell.execute_reply": "2021-07-24T09:20:12.650541Z",
     "shell.execute_reply.started": "2021-07-21T15:39:05.983378Z"
    },
    "papermill": {
     "duration": 113.137761,
     "end_time": "2021-07-24T09:20:12.651342",
     "exception": false,
     "start_time": "2021-07-24T09:18:19.513581",
     "status": "completed"
    },
    "tags": []
   },
   "outputs": [],
   "source": [
    "df = pd.read_excel('/kaggle/input/online-retail/online_retail.xlsx', sheet_name=\"Year 2010-2011\", engine='openpyxl')"
   ]
  },
  {
   "cell_type": "code",
   "execution_count": 4,
   "id": "2031b61c",
   "metadata": {
    "execution": {
     "iopub.execute_input": "2021-07-24T09:20:12.711395Z",
     "iopub.status.busy": "2021-07-24T09:20:12.710709Z",
     "iopub.status.idle": "2021-07-24T09:20:12.945968Z",
     "shell.execute_reply": "2021-07-24T09:20:12.945261Z",
     "shell.execute_reply.started": "2021-07-21T15:40:52.033449Z"
    },
    "papermill": {
     "duration": 0.266895,
     "end_time": "2021-07-24T09:20:12.946106",
     "exception": false,
     "start_time": "2021-07-24T09:20:12.679211",
     "status": "completed"
    },
    "tags": []
   },
   "outputs": [
    {
     "data": {
      "text/plain": [
       "Invoice             0\n",
       "StockCode           0\n",
       "Description      1454\n",
       "Quantity            0\n",
       "InvoiceDate         0\n",
       "Price               0\n",
       "Customer ID    135080\n",
       "Country             0\n",
       "dtype: int64"
      ]
     },
     "execution_count": 4,
     "metadata": {},
     "output_type": "execute_result"
    }
   ],
   "source": [
    "# Let's next step: Checking Null values:\n",
    "df.isnull().sum()"
   ]
  },
  {
   "cell_type": "code",
   "execution_count": 5,
   "id": "3b9410e9",
   "metadata": {
    "execution": {
     "iopub.execute_input": "2021-07-24T09:20:13.069027Z",
     "iopub.status.busy": "2021-07-24T09:20:13.068312Z",
     "iopub.status.idle": "2021-07-24T09:20:13.509834Z",
     "shell.execute_reply": "2021-07-24T09:20:13.507925Z",
     "shell.execute_reply.started": "2021-07-21T15:41:02.785581Z"
    },
    "papermill": {
     "duration": 0.535991,
     "end_time": "2021-07-24T09:20:13.510145",
     "exception": false,
     "start_time": "2021-07-24T09:20:12.974154",
     "status": "completed"
    },
    "tags": []
   },
   "outputs": [
    {
     "name": "stdout",
     "output_type": "stream",
     "text": [
      "Total number of observations:, 541910\n",
      "Categorical Variables:,4:['Invoice', 'StockCode', 'Description', 'Country']\n",
      "Numerical Variables:,4:['Quantity', 'InvoiceDate', 'Price', 'Customer ID']\n",
      "Numerical Variables:,3:['Quantity', 'Price', 'Customer ID']\n",
      "Datetime Variables:,1:['InvoiceDate']\n"
     ]
    }
   ],
   "source": [
    "# Check df:\n",
    "print(f\"Total number of observations:, {df.shape[0]}\")\n",
    "cat_cols = [col for col in df.columns if df[col].dtypes == \"O\"]\n",
    "print(f\"Categorical Variables:,{len(cat_cols)}:{cat_cols}\")\n",
    "num_cols = [col for col in df.columns if df[col].dtypes != \"O\"]\n",
    "print(f\"Numerical Variables:,{len(num_cols)}:{num_cols}\")\n",
    "num_but_num = [col for col in df.columns if df[col].nunique() < 4500 and df[col].dtypes != \"O\"]\n",
    "print(f\"Numerical Variables:,{len(num_but_num)}:{num_but_num}\")\n",
    "date_time = [col for col in df.columns if df[col].dtypes == \"datetime64[ns]\"]\n",
    "print(f\"Datetime Variables:,{len(date_time)}:{date_time}\")"
   ]
  },
  {
   "cell_type": "code",
   "execution_count": 6,
   "id": "44d20a47",
   "metadata": {
    "execution": {
     "iopub.execute_input": "2021-07-24T09:20:13.573812Z",
     "iopub.status.busy": "2021-07-24T09:20:13.573121Z",
     "iopub.status.idle": "2021-07-24T09:20:14.360306Z",
     "shell.execute_reply": "2021-07-24T09:20:14.359660Z",
     "shell.execute_reply.started": "2021-07-21T15:41:05.818824Z"
    },
    "papermill": {
     "duration": 0.820848,
     "end_time": "2021-07-24T09:20:14.360435",
     "exception": false,
     "start_time": "2021-07-24T09:20:13.539587",
     "status": "completed"
    },
    "tags": []
   },
   "outputs": [
    {
     "data": {
      "text/html": [
       "<div>\n",
       "<style scoped>\n",
       "    .dataframe tbody tr th:only-of-type {\n",
       "        vertical-align: middle;\n",
       "    }\n",
       "\n",
       "    .dataframe tbody tr th {\n",
       "        vertical-align: top;\n",
       "    }\n",
       "\n",
       "    .dataframe thead th {\n",
       "        text-align: right;\n",
       "    }\n",
       "</style>\n",
       "<table border=\"1\" class=\"dataframe\">\n",
       "  <thead>\n",
       "    <tr style=\"text-align: right;\">\n",
       "      <th></th>\n",
       "      <th>Invoice</th>\n",
       "      <th>StockCode</th>\n",
       "      <th>Description</th>\n",
       "      <th>Quantity</th>\n",
       "      <th>InvoiceDate</th>\n",
       "      <th>Price</th>\n",
       "      <th>Customer ID</th>\n",
       "      <th>Country</th>\n",
       "    </tr>\n",
       "  </thead>\n",
       "  <tbody>\n",
       "    <tr>\n",
       "      <th>0</th>\n",
       "      <td>536365</td>\n",
       "      <td>85123A</td>\n",
       "      <td>WHITE HANGING HEART T-LIGHT HOLDER</td>\n",
       "      <td>6</td>\n",
       "      <td>2010-12-01 08:26:00</td>\n",
       "      <td>3</td>\n",
       "      <td>17850</td>\n",
       "      <td>United Kingdom</td>\n",
       "    </tr>\n",
       "    <tr>\n",
       "      <th>1</th>\n",
       "      <td>536365</td>\n",
       "      <td>71053</td>\n",
       "      <td>WHITE METAL LANTERN</td>\n",
       "      <td>6</td>\n",
       "      <td>2010-12-01 08:26:00</td>\n",
       "      <td>3</td>\n",
       "      <td>17850</td>\n",
       "      <td>United Kingdom</td>\n",
       "    </tr>\n",
       "    <tr>\n",
       "      <th>2</th>\n",
       "      <td>536365</td>\n",
       "      <td>84406B</td>\n",
       "      <td>CREAM CUPID HEARTS COAT HANGER</td>\n",
       "      <td>8</td>\n",
       "      <td>2010-12-01 08:26:00</td>\n",
       "      <td>3</td>\n",
       "      <td>17850</td>\n",
       "      <td>United Kingdom</td>\n",
       "    </tr>\n",
       "    <tr>\n",
       "      <th>3</th>\n",
       "      <td>536365</td>\n",
       "      <td>84029G</td>\n",
       "      <td>KNITTED UNION FLAG HOT WATER BOTTLE</td>\n",
       "      <td>6</td>\n",
       "      <td>2010-12-01 08:26:00</td>\n",
       "      <td>3</td>\n",
       "      <td>17850</td>\n",
       "      <td>United Kingdom</td>\n",
       "    </tr>\n",
       "    <tr>\n",
       "      <th>4</th>\n",
       "      <td>536365</td>\n",
       "      <td>84029E</td>\n",
       "      <td>RED WOOLLY HOTTIE WHITE HEART.</td>\n",
       "      <td>6</td>\n",
       "      <td>2010-12-01 08:26:00</td>\n",
       "      <td>3</td>\n",
       "      <td>17850</td>\n",
       "      <td>United Kingdom</td>\n",
       "    </tr>\n",
       "  </tbody>\n",
       "</table>\n",
       "</div>"
      ],
      "text/plain": [
       "  Invoice StockCode                          Description  Quantity  \\\n",
       "0  536365    85123A   WHITE HANGING HEART T-LIGHT HOLDER         6   \n",
       "1  536365     71053                  WHITE METAL LANTERN         6   \n",
       "2  536365    84406B       CREAM CUPID HEARTS COAT HANGER         8   \n",
       "3  536365    84029G  KNITTED UNION FLAG HOT WATER BOTTLE         6   \n",
       "4  536365    84029E       RED WOOLLY HOTTIE WHITE HEART.         6   \n",
       "\n",
       "          InvoiceDate  Price  Customer ID         Country  \n",
       "0 2010-12-01 08:26:00      3        17850  United Kingdom  \n",
       "1 2010-12-01 08:26:00      3        17850  United Kingdom  \n",
       "2 2010-12-01 08:26:00      3        17850  United Kingdom  \n",
       "3 2010-12-01 08:26:00      3        17850  United Kingdom  \n",
       "4 2010-12-01 08:26:00      3        17850  United Kingdom  "
      ]
     },
     "execution_count": 6,
     "metadata": {},
     "output_type": "execute_result"
    }
   ],
   "source": [
    "# Pre-Processing the dataset\n",
    "df.isnull().sum()\n",
    "# Drop null:\n",
    "df.dropna(inplace=True)\n",
    "# Check df:\n",
    "df.shape\n",
    "df.head()"
   ]
  },
  {
   "cell_type": "markdown",
   "id": "6a00e9c5",
   "metadata": {
    "papermill": {
     "duration": 0.01929,
     "end_time": "2021-07-24T09:20:14.400601",
     "exception": false,
     "start_time": "2021-07-24T09:20:14.381311",
     "status": "completed"
    },
    "tags": []
   },
   "source": [
    "###############################################################\n",
    "#       Calculating RFM Metrics          #\n",
    "###############################################################\n"
   ]
  },
  {
   "cell_type": "code",
   "execution_count": 7,
   "id": "dd9a93af",
   "metadata": {
    "execution": {
     "iopub.execute_input": "2021-07-24T09:20:14.444240Z",
     "iopub.status.busy": "2021-07-24T09:20:14.443681Z",
     "iopub.status.idle": "2021-07-24T09:20:14.448295Z",
     "shell.execute_reply": "2021-07-24T09:20:14.447609Z"
    },
    "papermill": {
     "duration": 0.02782,
     "end_time": "2021-07-24T09:20:14.448416",
     "exception": false,
     "start_time": "2021-07-24T09:20:14.420596",
     "status": "completed"
    },
    "tags": []
   },
   "outputs": [],
   "source": [
    "# Recency: How recently a customer has made a purchase (Today - Last Transaction Day)\n",
    "# Frequency: How often a customer makes a purchase\n",
    "# Monetary Value: How much money a customer spends on purchases"
   ]
  },
  {
   "cell_type": "code",
   "execution_count": 8,
   "id": "7f99afdc",
   "metadata": {
    "execution": {
     "iopub.execute_input": "2021-07-24T09:20:14.494390Z",
     "iopub.status.busy": "2021-07-24T09:20:14.493735Z",
     "iopub.status.idle": "2021-07-24T09:20:14.499869Z",
     "shell.execute_reply": "2021-07-24T09:20:14.500283Z",
     "shell.execute_reply.started": "2021-07-21T15:41:11.798834Z"
    },
    "papermill": {
     "duration": 0.031707,
     "end_time": "2021-07-24T09:20:14.500428",
     "exception": false,
     "start_time": "2021-07-24T09:20:14.468721",
     "status": "completed"
    },
    "tags": []
   },
   "outputs": [],
   "source": [
    "df[\"InvoiceDate\"].max()   \n",
    "df[\"InvoiceDate\"].min()\n",
    "thisday=dt.datetime(2011, 12, 12)"
   ]
  },
  {
   "cell_type": "code",
   "execution_count": 9,
   "id": "f1ef6ead",
   "metadata": {
    "execution": {
     "iopub.execute_input": "2021-07-24T09:20:14.545189Z",
     "iopub.status.busy": "2021-07-24T09:20:14.544486Z",
     "iopub.status.idle": "2021-07-24T09:20:15.648559Z",
     "shell.execute_reply": "2021-07-24T09:20:15.647800Z",
     "shell.execute_reply.started": "2021-07-21T15:41:43.102452Z"
    },
    "papermill": {
     "duration": 1.127665,
     "end_time": "2021-07-24T09:20:15.648690",
     "exception": false,
     "start_time": "2021-07-24T09:20:14.521025",
     "status": "completed"
    },
    "tags": []
   },
   "outputs": [
    {
     "data": {
      "text/html": [
       "<div>\n",
       "<style scoped>\n",
       "    .dataframe tbody tr th:only-of-type {\n",
       "        vertical-align: middle;\n",
       "    }\n",
       "\n",
       "    .dataframe tbody tr th {\n",
       "        vertical-align: top;\n",
       "    }\n",
       "\n",
       "    .dataframe thead th {\n",
       "        text-align: right;\n",
       "    }\n",
       "</style>\n",
       "<table border=\"1\" class=\"dataframe\">\n",
       "  <thead>\n",
       "    <tr style=\"text-align: right;\">\n",
       "      <th></th>\n",
       "      <th>Recency</th>\n",
       "      <th>Frequency</th>\n",
       "      <th>Monetary</th>\n",
       "    </tr>\n",
       "    <tr>\n",
       "      <th>Customer ID</th>\n",
       "      <th></th>\n",
       "      <th></th>\n",
       "      <th></th>\n",
       "    </tr>\n",
       "  </thead>\n",
       "  <tbody>\n",
       "    <tr>\n",
       "      <th>12346</th>\n",
       "      <td>327</td>\n",
       "      <td>2</td>\n",
       "      <td>2</td>\n",
       "    </tr>\n",
       "    <tr>\n",
       "      <th>12347</th>\n",
       "      <td>4</td>\n",
       "      <td>182</td>\n",
       "      <td>481</td>\n",
       "    </tr>\n",
       "    <tr>\n",
       "      <th>12348</th>\n",
       "      <td>77</td>\n",
       "      <td>31</td>\n",
       "      <td>179</td>\n",
       "    </tr>\n",
       "    <tr>\n",
       "      <th>12349</th>\n",
       "      <td>20</td>\n",
       "      <td>73</td>\n",
       "      <td>605</td>\n",
       "    </tr>\n",
       "    <tr>\n",
       "      <th>12350</th>\n",
       "      <td>312</td>\n",
       "      <td>17</td>\n",
       "      <td>65</td>\n",
       "    </tr>\n",
       "  </tbody>\n",
       "</table>\n",
       "</div>"
      ],
      "text/plain": [
       "             Recency  Frequency  Monetary\n",
       "Customer ID                              \n",
       "12346            327          2         2\n",
       "12347              4        182       481\n",
       "12348             77         31       179\n",
       "12349             20         73       605\n",
       "12350            312         17        65"
      ]
     },
     "execution_count": 9,
     "metadata": {},
     "output_type": "execute_result"
    }
   ],
   "source": [
    "rfm_ = df.groupby('Customer ID').agg({'InvoiceDate': lambda date: (thisday-date.max()).days,\n",
    "                                     'Invoice': lambda num: len(num),\n",
    "                                     'Price': lambda Price: Price.sum()})\n",
    "\n",
    "rfm_.columns = ['Recency', 'Frequency', 'Monetary']\n",
    "\n",
    "rfm_ = rfm_[(rfm_[\"Monetary\"]) > 0 & (rfm_[\"Frequency\"] > 0)]\n",
    "rfm_.head()"
   ]
  },
  {
   "cell_type": "code",
   "execution_count": 10,
   "id": "c0095ce4",
   "metadata": {
    "execution": {
     "iopub.execute_input": "2021-07-24T09:20:15.714629Z",
     "iopub.status.busy": "2021-07-24T09:20:15.714051Z",
     "iopub.status.idle": "2021-07-24T09:20:15.727871Z",
     "shell.execute_reply": "2021-07-24T09:20:15.727398Z",
     "shell.execute_reply.started": "2021-07-21T15:42:12.364261Z"
    },
    "papermill": {
     "duration": 0.049296,
     "end_time": "2021-07-24T09:20:15.727983",
     "exception": false,
     "start_time": "2021-07-24T09:20:15.678687",
     "status": "completed"
    },
    "tags": []
   },
   "outputs": [],
   "source": [
    "# Scaling:\n",
    "rfm_[\"Recency_Score\"] = pd.qcut(rfm_['Recency'], 5, labels=[5, 4, 3, 2, 1])# 1 gün önce geldiyse 5 puan\n",
    "rfm_[\"Frequency_Score\"] = pd.qcut(rfm_['Frequency'], 5, labels=[1, 2, 3, 4, 5])\n",
    "rfm_[\"Monetary_Score\"] = pd.qcut(rfm_['Monetary'], 5, labels=[1, 2, 3, 4, 5])"
   ]
  },
  {
   "cell_type": "code",
   "execution_count": 11,
   "id": "29b177b9",
   "metadata": {
    "execution": {
     "iopub.execute_input": "2021-07-24T09:20:15.774714Z",
     "iopub.status.busy": "2021-07-24T09:20:15.774171Z",
     "iopub.status.idle": "2021-07-24T09:20:15.783341Z",
     "shell.execute_reply": "2021-07-24T09:20:15.783716Z",
     "shell.execute_reply.started": "2021-07-21T15:42:21.830915Z"
    },
    "papermill": {
     "duration": 0.035591,
     "end_time": "2021-07-24T09:20:15.783875",
     "exception": false,
     "start_time": "2021-07-24T09:20:15.748284",
     "status": "completed"
    },
    "tags": []
   },
   "outputs": [],
   "source": [
    "# New column is created:\"RFMSCORE\"\n",
    "rfm_[\"RFMSCORE\"] = (rfm_['Recency_Score'].astype(str)+rfm_['Frequency_Score'].astype(str)+rfm_['Monetary_Score'].astype(str))"
   ]
  },
  {
   "cell_type": "code",
   "execution_count": 12,
   "id": "55b74924",
   "metadata": {
    "execution": {
     "iopub.execute_input": "2021-07-24T09:20:15.839011Z",
     "iopub.status.busy": "2021-07-24T09:20:15.838432Z",
     "iopub.status.idle": "2021-07-24T09:20:15.842842Z",
     "shell.execute_reply": "2021-07-24T09:20:15.842373Z",
     "shell.execute_reply.started": "2021-07-21T15:42:32.817565Z"
    },
    "papermill": {
     "duration": 0.03935,
     "end_time": "2021-07-24T09:20:15.842949",
     "exception": false,
     "start_time": "2021-07-24T09:20:15.803599",
     "status": "completed"
    },
    "tags": []
   },
   "outputs": [
    {
     "data": {
      "text/html": [
       "<div>\n",
       "<style scoped>\n",
       "    .dataframe tbody tr th:only-of-type {\n",
       "        vertical-align: middle;\n",
       "    }\n",
       "\n",
       "    .dataframe tbody tr th {\n",
       "        vertical-align: top;\n",
       "    }\n",
       "\n",
       "    .dataframe thead th {\n",
       "        text-align: right;\n",
       "    }\n",
       "</style>\n",
       "<table border=\"1\" class=\"dataframe\">\n",
       "  <thead>\n",
       "    <tr style=\"text-align: right;\">\n",
       "      <th></th>\n",
       "      <th>Recency</th>\n",
       "      <th>Frequency</th>\n",
       "      <th>Monetary</th>\n",
       "      <th>Recency_Score</th>\n",
       "      <th>Frequency_Score</th>\n",
       "      <th>Monetary_Score</th>\n",
       "      <th>RFMSCORE</th>\n",
       "    </tr>\n",
       "    <tr>\n",
       "      <th>Customer ID</th>\n",
       "      <th></th>\n",
       "      <th></th>\n",
       "      <th></th>\n",
       "      <th></th>\n",
       "      <th></th>\n",
       "      <th></th>\n",
       "      <th></th>\n",
       "    </tr>\n",
       "  </thead>\n",
       "  <tbody>\n",
       "    <tr>\n",
       "      <th>12346</th>\n",
       "      <td>327</td>\n",
       "      <td>2</td>\n",
       "      <td>2</td>\n",
       "      <td>1</td>\n",
       "      <td>1</td>\n",
       "      <td>1</td>\n",
       "      <td>111</td>\n",
       "    </tr>\n",
       "    <tr>\n",
       "      <th>12347</th>\n",
       "      <td>4</td>\n",
       "      <td>182</td>\n",
       "      <td>481</td>\n",
       "      <td>5</td>\n",
       "      <td>5</td>\n",
       "      <td>5</td>\n",
       "      <td>555</td>\n",
       "    </tr>\n",
       "    <tr>\n",
       "      <th>12348</th>\n",
       "      <td>77</td>\n",
       "      <td>31</td>\n",
       "      <td>179</td>\n",
       "      <td>2</td>\n",
       "      <td>3</td>\n",
       "      <td>3</td>\n",
       "      <td>233</td>\n",
       "    </tr>\n",
       "    <tr>\n",
       "      <th>12349</th>\n",
       "      <td>20</td>\n",
       "      <td>73</td>\n",
       "      <td>605</td>\n",
       "      <td>4</td>\n",
       "      <td>4</td>\n",
       "      <td>5</td>\n",
       "      <td>445</td>\n",
       "    </tr>\n",
       "    <tr>\n",
       "      <th>12350</th>\n",
       "      <td>312</td>\n",
       "      <td>17</td>\n",
       "      <td>65</td>\n",
       "      <td>1</td>\n",
       "      <td>2</td>\n",
       "      <td>2</td>\n",
       "      <td>122</td>\n",
       "    </tr>\n",
       "  </tbody>\n",
       "</table>\n",
       "</div>"
      ],
      "text/plain": [
       "             Recency  Frequency  Monetary Recency_Score Frequency_Score  \\\n",
       "Customer ID                                                               \n",
       "12346            327          2         2             1               1   \n",
       "12347              4        182       481             5               5   \n",
       "12348             77         31       179             2               3   \n",
       "12349             20         73       605             4               4   \n",
       "12350            312         17        65             1               2   \n",
       "\n",
       "            Monetary_Score RFMSCORE  \n",
       "Customer ID                          \n",
       "12346                    1      111  \n",
       "12347                    5      555  \n",
       "12348                    3      233  \n",
       "12349                    5      445  \n",
       "12350                    2      122  "
      ]
     },
     "execution_count": 12,
     "metadata": {},
     "output_type": "execute_result"
    }
   ],
   "source": [
    "rfm_.head()"
   ]
  },
  {
   "cell_type": "code",
   "execution_count": 13,
   "id": "0a1d2f19",
   "metadata": {
    "execution": {
     "iopub.execute_input": "2021-07-24T09:20:15.887461Z",
     "iopub.status.busy": "2021-07-24T09:20:15.886943Z",
     "iopub.status.idle": "2021-07-24T09:20:16.000705Z",
     "shell.execute_reply": "2021-07-24T09:20:16.001084Z",
     "shell.execute_reply.started": "2021-07-21T15:43:40.773223Z"
    },
    "papermill": {
     "duration": 0.137992,
     "end_time": "2021-07-24T09:20:16.001233",
     "exception": false,
     "start_time": "2021-07-24T09:20:15.863241",
     "status": "completed"
    },
    "tags": []
   },
   "outputs": [],
   "source": [
    "segment_map = { \n",
    "    r'[1-2][1-2]': 'Hibernating',\n",
    "    r'[1-2][3-4]': 'At_Risk',\n",
    "    r'[1-2]5': 'Cant_Loose',\n",
    "    r'3[1-2]': 'About_to_Sleep',\n",
    "    r'33': 'Need_Attention',\n",
    "    r'[3-4][4-5]': 'Loyal_Customers',\n",
    "    r'41': 'Promising',\n",
    "    r'51': 'New_Customers',\n",
    "    r'[4-5][2-3]': 'Potential_Loyalists',\n",
    "    r'5[4-5]': 'Champions'}\n",
    "\n",
    "rfm_['Segment'] = rfm_['Recency_Score'].astype(str) + rfm_['Frequency_Score'].astype(str)\n",
    "\n",
    "rfm_['Segment'] = rfm_['Segment'].replace(segment_map, regex=True)"
   ]
  },
  {
   "cell_type": "code",
   "execution_count": 14,
   "id": "11dccb8f",
   "metadata": {
    "execution": {
     "iopub.execute_input": "2021-07-24T09:20:16.046005Z",
     "iopub.status.busy": "2021-07-24T09:20:16.045436Z",
     "iopub.status.idle": "2021-07-24T09:20:16.061575Z",
     "shell.execute_reply": "2021-07-24T09:20:16.062148Z",
     "shell.execute_reply.started": "2021-07-21T15:43:57.403874Z"
    },
    "papermill": {
     "duration": 0.040478,
     "end_time": "2021-07-24T09:20:16.062291",
     "exception": false,
     "start_time": "2021-07-24T09:20:16.021813",
     "status": "completed"
    },
    "tags": []
   },
   "outputs": [
    {
     "data": {
      "text/html": [
       "<div>\n",
       "<style scoped>\n",
       "    .dataframe tbody tr th:only-of-type {\n",
       "        vertical-align: middle;\n",
       "    }\n",
       "\n",
       "    .dataframe tbody tr th {\n",
       "        vertical-align: top;\n",
       "    }\n",
       "\n",
       "    .dataframe thead th {\n",
       "        text-align: right;\n",
       "    }\n",
       "</style>\n",
       "<table border=\"1\" class=\"dataframe\">\n",
       "  <thead>\n",
       "    <tr style=\"text-align: right;\">\n",
       "      <th></th>\n",
       "      <th>Customer ID</th>\n",
       "      <th>Recency</th>\n",
       "      <th>Frequency</th>\n",
       "      <th>Monetary</th>\n",
       "      <th>Recency_Score</th>\n",
       "      <th>Frequency_Score</th>\n",
       "      <th>Monetary_Score</th>\n",
       "      <th>RFMSCORE</th>\n",
       "      <th>Segment</th>\n",
       "    </tr>\n",
       "  </thead>\n",
       "  <tbody>\n",
       "    <tr>\n",
       "      <th>0</th>\n",
       "      <td>12346</td>\n",
       "      <td>327</td>\n",
       "      <td>2</td>\n",
       "      <td>2</td>\n",
       "      <td>1</td>\n",
       "      <td>1</td>\n",
       "      <td>1</td>\n",
       "      <td>111</td>\n",
       "      <td>Hibernating</td>\n",
       "    </tr>\n",
       "    <tr>\n",
       "      <th>1</th>\n",
       "      <td>12347</td>\n",
       "      <td>4</td>\n",
       "      <td>182</td>\n",
       "      <td>481</td>\n",
       "      <td>5</td>\n",
       "      <td>5</td>\n",
       "      <td>5</td>\n",
       "      <td>555</td>\n",
       "      <td>Champions</td>\n",
       "    </tr>\n",
       "    <tr>\n",
       "      <th>2</th>\n",
       "      <td>12348</td>\n",
       "      <td>77</td>\n",
       "      <td>31</td>\n",
       "      <td>179</td>\n",
       "      <td>2</td>\n",
       "      <td>3</td>\n",
       "      <td>3</td>\n",
       "      <td>233</td>\n",
       "      <td>At_Risk</td>\n",
       "    </tr>\n",
       "    <tr>\n",
       "      <th>3</th>\n",
       "      <td>12349</td>\n",
       "      <td>20</td>\n",
       "      <td>73</td>\n",
       "      <td>605</td>\n",
       "      <td>4</td>\n",
       "      <td>4</td>\n",
       "      <td>5</td>\n",
       "      <td>445</td>\n",
       "      <td>Loyal_Customers</td>\n",
       "    </tr>\n",
       "    <tr>\n",
       "      <th>4</th>\n",
       "      <td>12350</td>\n",
       "      <td>312</td>\n",
       "      <td>17</td>\n",
       "      <td>65</td>\n",
       "      <td>1</td>\n",
       "      <td>2</td>\n",
       "      <td>2</td>\n",
       "      <td>122</td>\n",
       "      <td>Hibernating</td>\n",
       "    </tr>\n",
       "  </tbody>\n",
       "</table>\n",
       "</div>"
      ],
      "text/plain": [
       "   Customer ID  Recency  Frequency  Monetary Recency_Score Frequency_Score  \\\n",
       "0        12346      327          2         2             1               1   \n",
       "1        12347        4        182       481             5               5   \n",
       "2        12348       77         31       179             2               3   \n",
       "3        12349       20         73       605             4               4   \n",
       "4        12350      312         17        65             1               2   \n",
       "\n",
       "  Monetary_Score RFMSCORE          Segment  \n",
       "0              1      111      Hibernating  \n",
       "1              5      555        Champions  \n",
       "2              3      233          At_Risk  \n",
       "3              5      445  Loyal_Customers  \n",
       "4              2      122      Hibernating  "
      ]
     },
     "execution_count": 14,
     "metadata": {},
     "output_type": "execute_result"
    }
   ],
   "source": [
    "rfm_.reset_index(inplace=True)\n",
    "rfm_.head()"
   ]
  },
  {
   "cell_type": "markdown",
   "id": "2a382d07",
   "metadata": {
    "papermill": {
     "duration": 0.021156,
     "end_time": "2021-07-24T09:20:16.104383",
     "exception": false,
     "start_time": "2021-07-24T09:20:16.083227",
     "status": "completed"
    },
    "tags": []
   },
   "source": [
    "**** K MEANS ****"
   ]
  },
  {
   "cell_type": "code",
   "execution_count": 15,
   "id": "47a6f2b2",
   "metadata": {
    "execution": {
     "iopub.execute_input": "2021-07-24T09:20:16.153293Z",
     "iopub.status.busy": "2021-07-24T09:20:16.152571Z",
     "iopub.status.idle": "2021-07-24T09:20:16.157205Z",
     "shell.execute_reply": "2021-07-24T09:20:16.156758Z",
     "shell.execute_reply.started": "2021-07-21T15:45:30.777258Z"
    },
    "papermill": {
     "duration": 0.031677,
     "end_time": "2021-07-24T09:20:16.157338",
     "exception": false,
     "start_time": "2021-07-24T09:20:16.125661",
     "status": "completed"
    },
    "tags": []
   },
   "outputs": [],
   "source": [
    "# Selected for RFM columns\n",
    "df = rfm_[['Customer ID', 'Recency', 'Frequency', 'Monetary']]"
   ]
  },
  {
   "cell_type": "code",
   "execution_count": 16,
   "id": "b6c51020",
   "metadata": {
    "execution": {
     "iopub.execute_input": "2021-07-24T09:20:16.210174Z",
     "iopub.status.busy": "2021-07-24T09:20:16.206262Z",
     "iopub.status.idle": "2021-07-24T09:20:16.221650Z",
     "shell.execute_reply": "2021-07-24T09:20:16.221218Z",
     "shell.execute_reply.started": "2021-07-21T15:45:44.890913Z"
    },
    "papermill": {
     "duration": 0.043313,
     "end_time": "2021-07-24T09:20:16.221766",
     "exception": false,
     "start_time": "2021-07-24T09:20:16.178453",
     "status": "completed"
    },
    "tags": []
   },
   "outputs": [
    {
     "name": "stderr",
     "output_type": "stream",
     "text": [
      "/opt/conda/lib/python3.7/site-packages/ipykernel_launcher.py:3: SettingWithCopyWarning: \n",
      "A value is trying to be set on a copy of a slice from a DataFrame.\n",
      "Try using .loc[row_indexer,col_indexer] = value instead\n",
      "\n",
      "See the caveats in the documentation: https://pandas.pydata.org/pandas-docs/stable/user_guide/indexing.html#returning-a-view-versus-a-copy\n",
      "  This is separate from the ipykernel package so we can avoid doing imports until\n",
      "/opt/conda/lib/python3.7/site-packages/pandas/core/indexing.py:1738: SettingWithCopyWarning: \n",
      "A value is trying to be set on a copy of a slice from a DataFrame.\n",
      "Try using .loc[row_indexer,col_indexer] = value instead\n",
      "\n",
      "See the caveats in the documentation: https://pandas.pydata.org/pandas-docs/stable/user_guide/indexing.html#returning-a-view-versus-a-copy\n",
      "  self._setitem_single_column(loc, value[:, i].tolist(), pi)\n"
     ]
    }
   ],
   "source": [
    "# 0-1 Recency - Frequency - Monetary scaling:\n",
    "sc = MinMaxScaler((0, 1))\n",
    "df[['Recency', 'Frequency', 'Monetary']] = sc.fit_transform(df[['Recency', 'Frequency', 'Monetary']])"
   ]
  },
  {
   "cell_type": "code",
   "execution_count": 17,
   "id": "09202b4d",
   "metadata": {
    "execution": {
     "iopub.execute_input": "2021-07-24T09:20:16.272753Z",
     "iopub.status.busy": "2021-07-24T09:20:16.272126Z",
     "iopub.status.idle": "2021-07-24T09:20:16.276382Z",
     "shell.execute_reply": "2021-07-24T09:20:16.275650Z",
     "shell.execute_reply.started": "2021-07-21T15:46:18.94832Z"
    },
    "papermill": {
     "duration": 0.033562,
     "end_time": "2021-07-24T09:20:16.276529",
     "exception": false,
     "start_time": "2021-07-24T09:20:16.242967",
     "status": "completed"
    },
    "tags": []
   },
   "outputs": [
    {
     "data": {
      "text/html": [
       "<div>\n",
       "<style scoped>\n",
       "    .dataframe tbody tr th:only-of-type {\n",
       "        vertical-align: middle;\n",
       "    }\n",
       "\n",
       "    .dataframe tbody tr th {\n",
       "        vertical-align: top;\n",
       "    }\n",
       "\n",
       "    .dataframe thead th {\n",
       "        text-align: right;\n",
       "    }\n",
       "</style>\n",
       "<table border=\"1\" class=\"dataframe\">\n",
       "  <thead>\n",
       "    <tr style=\"text-align: right;\">\n",
       "      <th></th>\n",
       "      <th>Customer ID</th>\n",
       "      <th>Recency</th>\n",
       "      <th>Frequency</th>\n",
       "      <th>Monetary</th>\n",
       "    </tr>\n",
       "  </thead>\n",
       "  <tbody>\n",
       "    <tr>\n",
       "      <th>0</th>\n",
       "      <td>12346</td>\n",
       "      <td>1</td>\n",
       "      <td>0</td>\n",
       "      <td>0</td>\n",
       "    </tr>\n",
       "    <tr>\n",
       "      <th>1</th>\n",
       "      <td>12347</td>\n",
       "      <td>0</td>\n",
       "      <td>0</td>\n",
       "      <td>0</td>\n",
       "    </tr>\n",
       "    <tr>\n",
       "      <th>2</th>\n",
       "      <td>12348</td>\n",
       "      <td>0</td>\n",
       "      <td>0</td>\n",
       "      <td>0</td>\n",
       "    </tr>\n",
       "    <tr>\n",
       "      <th>3</th>\n",
       "      <td>12349</td>\n",
       "      <td>0</td>\n",
       "      <td>0</td>\n",
       "      <td>0</td>\n",
       "    </tr>\n",
       "    <tr>\n",
       "      <th>4</th>\n",
       "      <td>12350</td>\n",
       "      <td>1</td>\n",
       "      <td>0</td>\n",
       "      <td>0</td>\n",
       "    </tr>\n",
       "  </tbody>\n",
       "</table>\n",
       "</div>"
      ],
      "text/plain": [
       "   Customer ID  Recency  Frequency  Monetary\n",
       "0        12346        1          0         0\n",
       "1        12347        0          0         0\n",
       "2        12348        0          0         0\n",
       "3        12349        0          0         0\n",
       "4        12350        1          0         0"
      ]
     },
     "execution_count": 17,
     "metadata": {},
     "output_type": "execute_result"
    }
   ],
   "source": [
    "df.head()"
   ]
  },
  {
   "cell_type": "code",
   "execution_count": 18,
   "id": "9c572aec",
   "metadata": {
    "execution": {
     "iopub.execute_input": "2021-07-24T09:20:16.347081Z",
     "iopub.status.busy": "2021-07-24T09:20:16.346394Z",
     "iopub.status.idle": "2021-07-24T09:21:09.572519Z",
     "shell.execute_reply": "2021-07-24T09:21:09.571875Z",
     "shell.execute_reply.started": "2021-07-21T15:49:08.715484Z"
    },
    "papermill": {
     "duration": 53.263159,
     "end_time": "2021-07-24T09:21:09.572656",
     "exception": false,
     "start_time": "2021-07-24T09:20:16.309497",
     "status": "completed"
    },
    "tags": []
   },
   "outputs": [
    {
     "data": {
      "image/png": "[encoded data removed]",
      "text/plain": [
       "<Figure size 576x396 with 2 Axes>"
      ]
     },
     "metadata": {},
     "output_type": "display_data"
    },
    {
     "data": {
      "text/plain": [
       "<AxesSubplot:title={'center':'Distortion Score Elbow for KMeans Clustering'}, xlabel='k', ylabel='distortion score'>"
      ]
     },
     "execution_count": 18,
     "metadata": {},
     "output_type": "execute_result"
    }
   ],
   "source": [
    "# Determining Cluster, k=6\n",
    "from yellowbrick.cluster import KElbowVisualizer\n",
    "kmeans = KMeans()\n",
    "elbow = KElbowVisualizer(kmeans, k=(2, 20))\n",
    "elbow.fit(df[['Recency', 'Frequency', 'Monetary']])\n",
    "elbow.show()"
   ]
  },
  {
   "cell_type": "code",
   "execution_count": 19,
   "id": "9bb66b1c",
   "metadata": {
    "execution": {
     "iopub.execute_input": "2021-07-24T09:21:09.661405Z",
     "iopub.status.busy": "2021-07-24T09:21:09.660706Z",
     "iopub.status.idle": "2021-07-24T09:21:10.961694Z",
     "shell.execute_reply": "2021-07-24T09:21:10.961156Z",
     "shell.execute_reply.started": "2021-07-21T15:51:32.501337Z"
    },
    "papermill": {
     "duration": 1.352144,
     "end_time": "2021-07-24T09:21:10.961861",
     "exception": false,
     "start_time": "2021-07-24T09:21:09.609717",
     "status": "completed"
    },
    "tags": []
   },
   "outputs": [],
   "source": [
    "# Kmeans fitting for model \n",
    "\n",
    "kmeans = KMeans(n_clusters=6).fit(df[['Recency', 'Frequency', 'Monetary']])\n",
    "kumeler = kmeans.labels_\n"
   ]
  },
  {
   "cell_type": "code",
   "execution_count": 20,
   "id": "35af74ab",
   "metadata": {
    "execution": {
     "iopub.execute_input": "2021-07-24T09:21:11.064208Z",
     "iopub.status.busy": "2021-07-24T09:21:11.063675Z",
     "iopub.status.idle": "2021-07-24T09:21:11.081383Z",
     "shell.execute_reply": "2021-07-24T09:21:11.081774Z"
    },
    "papermill": {
     "duration": 0.061603,
     "end_time": "2021-07-24T09:21:11.081943",
     "exception": false,
     "start_time": "2021-07-24T09:21:11.020340",
     "status": "completed"
    },
    "tags": []
   },
   "outputs": [
    {
     "data": {
      "text/html": [
       "<div>\n",
       "<style scoped>\n",
       "    .dataframe tbody tr th:only-of-type {\n",
       "        vertical-align: middle;\n",
       "    }\n",
       "\n",
       "    .dataframe tbody tr th {\n",
       "        vertical-align: top;\n",
       "    }\n",
       "\n",
       "    .dataframe thead tr th {\n",
       "        text-align: left;\n",
       "    }\n",
       "</style>\n",
       "<table border=\"1\" class=\"dataframe\">\n",
       "  <thead>\n",
       "    <tr>\n",
       "      <th></th>\n",
       "      <th>cluster_no</th>\n",
       "      <th colspan=\"2\" halign=\"left\">Customer ID</th>\n",
       "      <th colspan=\"2\" halign=\"left\">Recency</th>\n",
       "      <th colspan=\"2\" halign=\"left\">Frequency</th>\n",
       "      <th colspan=\"2\" halign=\"left\">Monetary</th>\n",
       "    </tr>\n",
       "    <tr>\n",
       "      <th></th>\n",
       "      <th></th>\n",
       "      <th>count</th>\n",
       "      <th>mean</th>\n",
       "      <th>count</th>\n",
       "      <th>mean</th>\n",
       "      <th>count</th>\n",
       "      <th>mean</th>\n",
       "      <th>count</th>\n",
       "      <th>mean</th>\n",
       "    </tr>\n",
       "  </thead>\n",
       "  <tbody>\n",
       "    <tr>\n",
       "      <th>0</th>\n",
       "      <td>1</td>\n",
       "      <td>1010</td>\n",
       "      <td>15247</td>\n",
       "      <td>1010</td>\n",
       "      <td>75</td>\n",
       "      <td>1010</td>\n",
       "      <td>55</td>\n",
       "      <td>1010</td>\n",
       "      <td>174</td>\n",
       "    </tr>\n",
       "    <tr>\n",
       "      <th>1</th>\n",
       "      <td>2</td>\n",
       "      <td>427</td>\n",
       "      <td>15315</td>\n",
       "      <td>427</td>\n",
       "      <td>250</td>\n",
       "      <td>427</td>\n",
       "      <td>25</td>\n",
       "      <td>427</td>\n",
       "      <td>92</td>\n",
       "    </tr>\n",
       "    <tr>\n",
       "      <th>2</th>\n",
       "      <td>3</td>\n",
       "      <td>2111</td>\n",
       "      <td>15301</td>\n",
       "      <td>2111</td>\n",
       "      <td>19</td>\n",
       "      <td>2111</td>\n",
       "      <td>137</td>\n",
       "      <td>2111</td>\n",
       "      <td>420</td>\n",
       "    </tr>\n",
       "    <tr>\n",
       "      <th>3</th>\n",
       "      <td>4</td>\n",
       "      <td>516</td>\n",
       "      <td>15376</td>\n",
       "      <td>516</td>\n",
       "      <td>162</td>\n",
       "      <td>516</td>\n",
       "      <td>40</td>\n",
       "      <td>516</td>\n",
       "      <td>160</td>\n",
       "    </tr>\n",
       "    <tr>\n",
       "      <th>4</th>\n",
       "      <td>5</td>\n",
       "      <td>300</td>\n",
       "      <td>15336</td>\n",
       "      <td>300</td>\n",
       "      <td>338</td>\n",
       "      <td>300</td>\n",
       "      <td>23</td>\n",
       "      <td>300</td>\n",
       "      <td>85</td>\n",
       "    </tr>\n",
       "    <tr>\n",
       "      <th>5</th>\n",
       "      <td>6</td>\n",
       "      <td>7</td>\n",
       "      <td>14781</td>\n",
       "      <td>7</td>\n",
       "      <td>42</td>\n",
       "      <td>7</td>\n",
       "      <td>3452</td>\n",
       "      <td>7</td>\n",
       "      <td>28198</td>\n",
       "    </tr>\n",
       "  </tbody>\n",
       "</table>\n",
       "</div>"
      ],
      "text/plain": [
       "  cluster_no Customer ID       Recency      Frequency      Monetary      \n",
       "                   count  mean   count mean     count mean    count  mean\n",
       "0          1        1010 15247    1010   75      1010   55     1010   174\n",
       "1          2         427 15315     427  250       427   25      427    92\n",
       "2          3        2111 15301    2111   19      2111  137     2111   420\n",
       "3          4         516 15376     516  162       516   40      516   160\n",
       "4          5         300 15336     300  338       300   23      300    85\n",
       "5          6           7 14781       7   42         7 3452        7 28198"
      ]
     },
     "execution_count": 20,
     "metadata": {},
     "output_type": "execute_result"
    }
   ],
   "source": [
    "# \"kumeler\" is added as array to \"cluster no\":\n",
    "rfm_[\"cluster_no\"] = kumeler\n",
    "\n",
    "# Cluster No is starting with 1:\n",
    "rfm_[\"cluster_no\"] = rfm_[\"cluster_no\"] + 1\n",
    "\n",
    "# Let's checking:\n",
    "rfm_.head()\n",
    "\n",
    "# Grouping by Recency - Frequency - Monetary:\n",
    "rfm_.groupby(\"cluster_no\").agg(['count', 'mean']).reset_index()"
   ]
  },
  {
   "cell_type": "code",
   "execution_count": 21,
   "id": "4a55b8a9",
   "metadata": {
    "execution": {
     "iopub.execute_input": "2021-07-24T09:21:11.153314Z",
     "iopub.status.busy": "2021-07-24T09:21:11.152648Z",
     "iopub.status.idle": "2021-07-24T09:21:11.157407Z",
     "shell.execute_reply": "2021-07-24T09:21:11.156471Z",
     "shell.execute_reply.started": "2021-07-21T15:53:18.67657Z"
    },
    "papermill": {
     "duration": 0.048788,
     "end_time": "2021-07-24T09:21:11.157526",
     "exception": false,
     "start_time": "2021-07-24T09:21:11.108738",
     "status": "completed"
    },
    "tags": []
   },
   "outputs": [
    {
     "data": {
      "text/html": [
       "<div>\n",
       "<style scoped>\n",
       "    .dataframe tbody tr th:only-of-type {\n",
       "        vertical-align: middle;\n",
       "    }\n",
       "\n",
       "    .dataframe tbody tr th {\n",
       "        vertical-align: top;\n",
       "    }\n",
       "\n",
       "    .dataframe thead th {\n",
       "        text-align: right;\n",
       "    }\n",
       "</style>\n",
       "<table border=\"1\" class=\"dataframe\">\n",
       "  <thead>\n",
       "    <tr style=\"text-align: right;\">\n",
       "      <th></th>\n",
       "      <th>Customer ID</th>\n",
       "      <th>Recency</th>\n",
       "      <th>Frequency</th>\n",
       "      <th>Monetary</th>\n",
       "      <th>Recency_Score</th>\n",
       "      <th>Frequency_Score</th>\n",
       "      <th>Monetary_Score</th>\n",
       "      <th>RFMSCORE</th>\n",
       "      <th>Segment</th>\n",
       "      <th>cluster_no</th>\n",
       "    </tr>\n",
       "  </thead>\n",
       "  <tbody>\n",
       "    <tr>\n",
       "      <th>0</th>\n",
       "      <td>12346</td>\n",
       "      <td>327</td>\n",
       "      <td>2</td>\n",
       "      <td>2</td>\n",
       "      <td>1</td>\n",
       "      <td>1</td>\n",
       "      <td>1</td>\n",
       "      <td>111</td>\n",
       "      <td>Hibernating</td>\n",
       "      <td>5</td>\n",
       "    </tr>\n",
       "    <tr>\n",
       "      <th>1</th>\n",
       "      <td>12347</td>\n",
       "      <td>4</td>\n",
       "      <td>182</td>\n",
       "      <td>481</td>\n",
       "      <td>5</td>\n",
       "      <td>5</td>\n",
       "      <td>5</td>\n",
       "      <td>555</td>\n",
       "      <td>Champions</td>\n",
       "      <td>3</td>\n",
       "    </tr>\n",
       "    <tr>\n",
       "      <th>2</th>\n",
       "      <td>12348</td>\n",
       "      <td>77</td>\n",
       "      <td>31</td>\n",
       "      <td>179</td>\n",
       "      <td>2</td>\n",
       "      <td>3</td>\n",
       "      <td>3</td>\n",
       "      <td>233</td>\n",
       "      <td>At_Risk</td>\n",
       "      <td>1</td>\n",
       "    </tr>\n",
       "    <tr>\n",
       "      <th>3</th>\n",
       "      <td>12349</td>\n",
       "      <td>20</td>\n",
       "      <td>73</td>\n",
       "      <td>605</td>\n",
       "      <td>4</td>\n",
       "      <td>4</td>\n",
       "      <td>5</td>\n",
       "      <td>445</td>\n",
       "      <td>Loyal_Customers</td>\n",
       "      <td>3</td>\n",
       "    </tr>\n",
       "    <tr>\n",
       "      <th>4</th>\n",
       "      <td>12350</td>\n",
       "      <td>312</td>\n",
       "      <td>17</td>\n",
       "      <td>65</td>\n",
       "      <td>1</td>\n",
       "      <td>2</td>\n",
       "      <td>2</td>\n",
       "      <td>122</td>\n",
       "      <td>Hibernating</td>\n",
       "      <td>5</td>\n",
       "    </tr>\n",
       "  </tbody>\n",
       "</table>\n",
       "</div>"
      ],
      "text/plain": [
       "   Customer ID  Recency  Frequency  Monetary Recency_Score Frequency_Score  \\\n",
       "0        12346      327          2         2             1               1   \n",
       "1        12347        4        182       481             5               5   \n",
       "2        12348       77         31       179             2               3   \n",
       "3        12349       20         73       605             4               4   \n",
       "4        12350      312         17        65             1               2   \n",
       "\n",
       "  Monetary_Score RFMSCORE          Segment  cluster_no  \n",
       "0              1      111      Hibernating           5  \n",
       "1              5      555        Champions           3  \n",
       "2              3      233          At_Risk           1  \n",
       "3              5      445  Loyal_Customers           3  \n",
       "4              2      122      Hibernating           5  "
      ]
     },
     "execution_count": 21,
     "metadata": {},
     "output_type": "execute_result"
    }
   ],
   "source": [
    "# Finally: RFM and Clustering via K means method\n",
    "rfm_.head()"
   ]
  }
 ],
 "metadata": {
  "kernelspec": {
   "display_name": "Python 3",
   "language": "python",
   "name": "python3"
  },
  "language_info": {
   "codemirror_mode": {
    "name": "ipython",
    "version": 3
   },
   "file_extension": ".py",
   "mimetype": "text/x-python",
   "name": "python",
   "nbconvert_exporter": "python",
   "pygments_lexer": "ipython3",
   "version": "3.7.10"
  },
  "papermill": {
   "default_parameters": {},
   "duration": 196.06503,
   "end_time": "2021-07-24T09:21:12.791041",
   "environment_variables": {},
   "exception": null,
   "input_path": "__notebook__.ipynb",
   "output_path": "__notebook__.ipynb",
   "parameters": {},
   "start_time": "2021-07-24T09:17:56.726011",
   "version": "2.3.3"
  }
 },
 "nbformat": 4,
 "nbformat_minor": 5
}
